{
 "cells": [
  {
   "cell_type": "code",
   "execution_count": null,
   "id": "af07a615-66d9-4b73-b53d-d0b0a363d74c",
   "metadata": {
    "tags": []
   },
   "outputs": [],
   "source": [
    "import numpy as np\n",
    "import matplotlib.pyplot as plt\n",
    "import geopandas as gpd\n",
    "import pandas as pd\n",
    "import pygmt\n",
    "import pygplates\n",
    "\n",
    "from gprm.datasets import Reconstructions, Zircons\n",
    "from gprm.utils.spatial import topology_lookup\n",
    "#from gprm.utils.create_gpml import gdf2gpml, gpml2gdf\n",
    "\n",
    "#from collections import OrderedDict\n",
    "\n",
    "import sys\n",
    "sys.path.append('..')\n",
    "import molchan\n",
    "\n",
    "%load_ext autoreload\n",
    "%autoreload 2\n",
    "\n",
    "\n",
    "M2021 = Reconstructions.fetch_Merdith2021()\n",
    "L2023 = Reconstructions.fetch_Li2023()\n",
    "\n",
    "SedimentaryZircons = Zircons.get_sedimentary_samples(version=2021)\n",
    "\n",
    "\n",
    "for f in M2021.continent_polygons[0]:\n",
    "    if f.get_name() in ['Laurentia Parautochthon',\n",
    "                        'Kootenay Terrane (NAM affinity Colpron et al 2007)',\n",
    "                        'Cassiar Terrane (NAM affinity Colpron et al 2007)',\n",
    "                        'Yukon-Tanana Terrane',\n",
    "                        'Baikal-Muya']:\n",
    "        f.set_valid_time(1000,-999)\n",
    "        \n"
   ]
  },
  {
   "cell_type": "code",
   "execution_count": null,
   "id": "eb05143c-24d3-459c-b95a-797dff872435",
   "metadata": {
    "tags": []
   },
   "outputs": [],
   "source": [
    "def prepare_rasters(reconstruction_model, boundary_lookup,\n",
    "                    reconstruction_times, sampling=0.5, polygon_buffer_distance=None):\n",
    "    # Make two raster sequences, where:\n",
    "    # 1. Mask rasters where the pixels lying within continents (from those lying outside, therefore unreconstructable)\n",
    "    # 2. Distance rasters from subduction zone geometries\n",
    "\n",
    "    reconstruction_raster_dict = molchan.generate_raster_sequence_from_polygons(\n",
    "        reconstruction_model.continent_polygons[0],\n",
    "        reconstruction_model.rotation_model,\n",
    "        reconstruction_times,\n",
    "        sampling=sampling,\n",
    "        buffer_distance=polygon_buffer_distance\n",
    "    )\n",
    "\n",
    "    sz_distance_dict = molchan.generate_distance_raster_sequence(\n",
    "        boundary_lookup,\n",
    "        reconstruction_model,\n",
    "        reconstruction_times,\n",
    "        sampling=sampling\n",
    "    )\n",
    "    \n",
    "    #Combine the distance rasters with the mask rasters\n",
    "    sz_distance_dict_mask = molchan.combine_raster_sequences(sz_distance_dict, \n",
    "                                                             reconstruction_raster_dict)\n",
    "    \n",
    "    return sz_distance_dict_mask\n"
   ]
  },
  {
   "cell_type": "code",
   "execution_count": null,
   "id": "f5787413-d5af-4562-9f5c-48be0466fb8a",
   "metadata": {
    "tags": []
   },
   "outputs": [],
   "source": [
    "# Load the ore deposits, and reconstruct them to the time at the nearest time in the raster sequences\n",
    "def reconstruct_target_features(features, reconstruction_model, analysis_time_step, age_field):\n",
    "\n",
    "    features = reconstruction_model.assign_plate_ids(features, copy_valid_times=True)\n",
    "    \n",
    "    #features = features.query('FROMAGE>=@age_field')\n",
    "\n",
    "    features['AnalysisAge'] = np.round(features[age_field]/analysis_time_step)*analysis_time_step\n",
    "    \n",
    "    features = features[features['AnalysisAge']<=features['FROMAGE']]\n",
    "\n",
    "    return reconstruction_model.reconstruct_to_time_of_appearance(features, \n",
    "                                                                  ReconstructTime='AnalysisAge')\n"
   ]
  },
  {
   "cell_type": "code",
   "execution_count": null,
   "id": "4a6e9623-6997-46cf-9725-ef7ff4869e9e",
   "metadata": {
    "tags": []
   },
   "outputs": [],
   "source": [
    "# Run experiments where the distance of each deposit to the nearest target at the time of deposit formation\n",
    "# is determined from the distance raster sequence\n",
    "\n",
    "analysis_time_step = 10.\n",
    "raster_sampling = 2.\n",
    "polygon_buffer_distance = 500e3\n",
    "max_time = 1000.\n",
    "interpolater = 'pygmt'\n",
    "\n",
    "reconstruction_times = np.arange(0,1001,analysis_time_step)\n",
    "\n",
    "MODEL = M2021\n",
    "\n",
    "# Create a lookup table of the subduction zones reconstructed from topologies\n",
    "sz_lookup = topology_lookup(MODEL, \n",
    "                            reconstruction_times,\n",
    "                            boundary_types=['subduction'])\n",
    "\n",
    "\n",
    "sz_distance_dict_mask = prepare_rasters(MODEL, sz_lookup,\n",
    "                                        reconstruction_times, \n",
    "                                        sampling=raster_sampling, \n",
    "                                        polygon_buffer_distance=polygon_buffer_distance)\n"
   ]
  },
  {
   "cell_type": "code",
   "execution_count": null,
   "id": "085c8b79-2f8c-4da4-9cbd-dcfc8d1b841d",
   "metadata": {
    "tags": []
   },
   "outputs": [],
   "source": [
    "ABC = Zircons.tectonic_category(SedimentaryZircons)\n",
    "\n",
    "Azircons = ABC.query(\"TectonicClass.str.match('A')\")\n",
    "\n",
    "Analysis_Result = reconstruct_target_features(Azircons.query('Est_Depos_Age_Ma<=@max_time'),\n",
    "                                              MODEL, analysis_time_step, age_field='Est_Depos_Age_Ma')\n",
    "\n",
    "Analysis_Result\n"
   ]
  },
  {
   "cell_type": "code",
   "execution_count": null,
   "id": "ac7b4538-e571-416d-9b19-662af8d30e1b",
   "metadata": {
    "tags": []
   },
   "outputs": [],
   "source": [
    "#results = []\n",
    "\"\"\"\n",
    "#for i,row in Analysis_Result.iterrows():\n",
    "def mpoint(feature, raster_dict, age_field_name, interpolater):\n",
    "    #print(feature)\n",
    "    reconstruction_time = feature[age_field_name]\n",
    "    result = molchan.molchan_point(raster_dict[reconstruction_time],\n",
    "                           pd.DataFrame(data={'Longitude': [feature.geometry.x], \n",
    "                                              'Latitude': [feature.geometry.y]}),\n",
    "                           interpolater='scipy',\n",
    "                           return_fraction=False)\n",
    "    return result\n",
    "    #results.append(result)\n",
    "\n",
    "interpolater = 'scipy'\n",
    "Analysis_Result.apply(lambda x: mpoint(x,\n",
    "                                       sz_distance_dict_mask,\n",
    "                                       'AnalysisAge',\n",
    "                                       interpolater), axis=1)\n",
    "\n",
    "#Analysis_Result\n",
    "\"\"\"\n",
    "# Now get the distances from the raster sequence mapped to each point\n",
    "#'''\n",
    "results_sz = molchan.space_time_distances(sz_distance_dict_mask,\n",
    "                                          Analysis_Result,\n",
    "                                          age_field_name='AnalysisAge', \n",
    "                                          interpolater=interpolater)\n",
    "#'''"
   ]
  },
  {
   "cell_type": "code",
   "execution_count": null,
   "id": "0dd59331-b809-47a5-8ebf-5ebaec3a527f",
   "metadata": {
    "tags": []
   },
   "outputs": [],
   "source": [
    "# To get the skill, we need to know not only the distances of the points to the features\n",
    "# but also how these distances compare to the % of all points across all times within\n",
    "# the same distance contour\n",
    "sz_fractions = molchan.space_time_molchan_test(\n",
    "    sz_distance_dict_mask, \n",
    "    results_sz['distance'].dropna(),\n",
    "    healpix_resolution=16,\n",
    "    #distance_step=1e5,\n",
    "    interpolater=interpolater)\n",
    "print(sz_fractions[2])\n",
    "\n",
    "\n",
    "\n",
    "plt.plot(sz_fractions[0],sz_fractions[1], 'r', \n",
    "         label='Samples to subduction zone  | Skill = {:0.3f}'.format(sz_fractions[2]))\n",
    "plt.grid()\n",
    "plt.legend()\n",
    "plt.xlim(0,1)\n",
    "plt.ylim(0,1)\n",
    "plt.xlabel('Grid Fraction')\n",
    "plt.ylabel('Fraction of points missed')\n",
    "\n",
    "#plt.savefig('./images/molchan_space_time_1000Ma.png')\n",
    "#plt.close()\n",
    "plt.show()\n"
   ]
  },
  {
   "cell_type": "code",
   "execution_count": null,
   "id": "2802d3ad-3bd5-45d3-9db4-e85b089e691d",
   "metadata": {
    "tags": []
   },
   "outputs": [],
   "source": [
    "results_sz\n"
   ]
  },
  {
   "cell_type": "code",
   "execution_count": null,
   "id": "5474ead8-ddaa-44e0-999b-b6b4742caf81",
   "metadata": {},
   "outputs": [],
   "source": [
    "#age_field = 'Est_Depos_Age_Ma'\n",
    "#Azircons.query('FROMAGE>=@age_field')\n",
    "\n",
    "num_cpus = 2\n",
    "\n",
    "from joblib import Parallel, delayed\n",
    "\n",
    "tmp = Parallel(n_jobs=num_cpus)(delayed(molchan.scipy_interpolater) \\\n",
    "                                (sz_distance_dict_mask[reconstruction_time], [(0,-88),(0,-80),(10,-75)]) \\\n",
    "                               for reconstruction_time in reconstruction_times)\n",
    "\n",
    "np.vstack(tmp)"
   ]
  },
  {
   "cell_type": "code",
   "execution_count": null,
   "id": "7dc14667-13f2-42b7-aed4-602f942533bf",
   "metadata": {},
   "outputs": [],
   "source": [
    "import rasterio\n",
    "import xarray as xr\n",
    "\n",
    "#src = rasterio.open(sz_distance_dict_mask)\n",
    "\n",
    "#da = xr.open_dataarray(sz_distance_dict_mask[])\n",
    "#da = sz_distance_dict_mask[200]\n",
    "#da.sel\n",
    "\n"
   ]
  },
  {
   "cell_type": "code",
   "execution_count": null,
   "id": "645ad457-4baf-4cc4-bd41-1e2ee577ab39",
   "metadata": {},
   "outputs": [],
   "source": [
    "from gprm.utils.proximity import boundary_proximity\n",
    "\n",
    "brrr = molchan.generate_raster_sequence_from_polygons(\n",
    "    MODEL.continent_polygons[0],\n",
    "    MODEL.rotation_model,\n",
    "    reconstruction_times[:5],\n",
    "    sampling=raster_sampling\n",
    ")\n"
   ]
  },
  {
   "cell_type": "code",
   "execution_count": null,
   "id": "d5f6ea73-6e80-4c9e-b96b-40850c4d6aa6",
   "metadata": {},
   "outputs": [],
   "source": [
    "br = brrr[20].copy(deep=True)\n",
    "bn = boundary_proximity(br)\n",
    "\n",
    "#bn = bn.where(bn<1e6, np.nan)\n",
    "br.data[bn.data<500000] = 1\n",
    "br.plot()\n"
   ]
  },
  {
   "cell_type": "code",
   "execution_count": null,
   "id": "dbba419c-08c3-4660-9e85-5b6e929d02f3",
   "metadata": {},
   "outputs": [],
   "source": []
  }
 ],
 "metadata": {
  "kernelspec": {
   "display_name": "Python [conda env:pygmt13]",
   "language": "python",
   "name": "conda-env-pygmt13-py"
  },
  "language_info": {
   "codemirror_mode": {
    "name": "ipython",
    "version": 3
   },
   "file_extension": ".py",
   "mimetype": "text/x-python",
   "name": "python",
   "nbconvert_exporter": "python",
   "pygments_lexer": "ipython3",
   "version": "3.12.10"
  }
 },
 "nbformat": 4,
 "nbformat_minor": 5
}

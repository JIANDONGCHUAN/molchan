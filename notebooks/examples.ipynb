{
 "cells": [
  {
   "cell_type": "code",
   "execution_count": null,
   "id": "c2b018d7-34b9-4c8a-be2c-dfa1217c4a6c",
   "metadata": {
    "tags": []
   },
   "outputs": [],
   "source": [
    "import numpy as np\n",
    "import matplotlib.pyplot as plt\n",
    "import geopandas as gpd\n",
    "import pandas as pd\n",
    "import pygmt\n",
    "import pygplates\n",
    "\n",
    "from gprm.datasets import Reconstructions, Geology, Rocks\n",
    "from gprm.utils.spatial import topology_lookup\n",
    "#from gprm.utils.create_gpml import gdf2gpml, gpml2gdf\n",
    "\n",
    "#from collections import OrderedDict\n",
    "\n",
    "import sys\n",
    "sys.path.append('..')\n",
    "import molchan\n",
    "\n",
    "%load_ext autoreload\n",
    "%autoreload 2\n",
    "\n",
    "\n",
    "M2021 = Reconstructions.fetch_Merdith2021()\n",
    "L2023 = Reconstructions.fetch_Li2023()\n",
    "\n",
    "for f in M2021.continent_polygons[0]:\n",
    "    if f.get_name() in ['Laurentia Parautochthon',\n",
    "                        'Kootenay Terrane (NAM affinity Colpron et al 2007)',\n",
    "                        'Cassiar Terrane (NAM affinity Colpron et al 2007)',\n",
    "                        'Yukon-Tanana Terrane',\n",
    "                        'Baikal-Muya']:\n",
    "        f.set_valid_time(1000,-999)\n",
    "        \n"
   ]
  },
  {
   "cell_type": "code",
   "execution_count": null,
   "id": "c6858761-888d-4327-92af-86b0c4c6af3a",
   "metadata": {
    "tags": []
   },
   "outputs": [],
   "source": [
    "def prepare_rasters(reconstruction_model, boundary_lookup,\n",
    "                    reconstruction_times, sampling=0.5, polygon_buffer_distance=None):\n",
    "    # Make two raster sequences, where:\n",
    "    # 1. Mask rasters where the pixels lying within continents (from those lying outside, therefore unreconstructable)\n",
    "    # 2. Distance rasters from subduction zone geometries\n",
    "\n",
    "    reconstruction_raster_dict = molchan.generate_raster_sequence_from_polygons(\n",
    "        reconstruction_model.continent_polygons[0],\n",
    "        reconstruction_model.rotation_model,\n",
    "        reconstruction_times,\n",
    "        sampling=sampling,\n",
    "        buffer_distance=polygon_buffer_distance\n",
    "    )\n",
    "\n",
    "    sz_distance_dict = molchan.generate_distance_raster_sequence(\n",
    "        boundary_lookup,\n",
    "        reconstruction_model,\n",
    "        reconstruction_times,\n",
    "        sampling=sampling\n",
    "    )\n",
    "    \n",
    "    #Combine the distance rasters with the mask rasters\n",
    "    sz_distance_dict_mask = molchan.combine_raster_sequences(sz_distance_dict, \n",
    "                                                             reconstruction_raster_dict)\n",
    "    \n",
    "    return sz_distance_dict_mask\n"
   ]
  },
  {
   "cell_type": "code",
   "execution_count": null,
   "id": "0eb980a2-f670-4346-8f44-372d0f6a41a9",
   "metadata": {
    "tags": []
   },
   "outputs": [],
   "source": [
    "# Load the ore deposits, and reconstruct them to the time at the nearest time in the raster sequences\n",
    "def reconstruct_target_features(features, reconstruction_model, analysis_time_step, age_field):\n",
    "\n",
    "    features = reconstruction_model.assign_plate_ids(features, copy_valid_times=True)\n",
    "\n",
    "    features['AnalysisAge'] = np.round(features[age_field]/analysis_time_step)*analysis_time_step\n",
    "    \n",
    "    features = features[features['AnalysisAge']<=features['FROMAGE']]\n",
    "\n",
    "    return reconstruction_model.reconstruct_to_time_of_appearance(features, \n",
    "                                                                  ReconstructTime='AnalysisAge')\n"
   ]
  },
  {
   "cell_type": "code",
   "execution_count": null,
   "id": "fe1e8795-96be-4764-a07c-912fed3566dc",
   "metadata": {
    "tags": []
   },
   "outputs": [],
   "source": [
    "# Run experiments where the distance of each deposit to the nearest target at the time of deposit formation\n",
    "# is determined from the distance raster sequence\n",
    "\n",
    "analysis_time_step = 10.\n",
    "raster_sampling = 2.\n",
    "polygon_buffer_distance = 600e3\n",
    "max_time = 1000.\n",
    "interpolater = 'scipy'\n",
    "\n",
    "reconstruction_times = np.arange(0,max_time+analysis_time_step,analysis_time_step)\n",
    "\n",
    "MODEL = M2021\n",
    "\n",
    "# Create a lookup table of the subduction zones reconstructed from topologies\n",
    "sz_lookup = topology_lookup(MODEL, \n",
    "                            reconstruction_times,\n",
    "                            boundary_types=['subduction'])\n",
    "\n",
    "print('here1')\n",
    "\n",
    "\n",
    "sz_distance_dict_mask = prepare_rasters(MODEL, sz_lookup,\n",
    "                                        reconstruction_times, \n",
    "                                        sampling=raster_sampling,\n",
    "                                        polygon_buffer_distance=polygon_buffer_distance)\n",
    "print('here2')\n",
    "\n",
    "\n",
    "Analysis_Result = reconstruct_target_features(Rocks.BaseMetalDeposits('Cu-por').query('Age<=@max_time'),\n",
    "                                              MODEL, analysis_time_step, age_field='Age')\n",
    "print('here3')\n",
    "\n",
    "\n",
    "# Now get the distances from the raster sequence mapped to each point\n",
    "results_sz = molchan.space_time_distances(sz_distance_dict_mask,\n",
    "                                          Analysis_Result,\n",
    "                                          age_field_name='AnalysisAge', \n",
    "                                          interpolater=interpolater)\n",
    "print('here4')\n",
    "\n",
    "\n",
    "# To get the skill, we need to know not only the distances of the points to the features\n",
    "# but also how these distances compare to the % of all points across all times within\n",
    "# the same distance contour\n",
    "sz_fractions = molchan.space_time_molchan_test(\n",
    "    sz_distance_dict_mask, \n",
    "    results_sz['distance'],\n",
    "    healpix_resolution=16,\n",
    "    #distance_step=1e5,\n",
    "    interpolater=interpolater)\n",
    "print(sz_fractions[2])\n",
    "\n",
    "\n",
    "\n",
    "plt.plot(sz_fractions[0],sz_fractions[1], 'r', \n",
    "         label='Cu-por to subduction zone  | Skill = {:0.3f}'.format(sz_fractions[2]))\n",
    "plt.grid()\n",
    "plt.legend()\n",
    "plt.xlim(0,1)\n",
    "plt.ylim(0,1)\n",
    "plt.xlabel('Grid Fraction')\n",
    "plt.ylabel('Fraction of points missed')\n",
    "\n",
    "#plt.savefig('./images/molchan_space_time_1000Ma.png')\n",
    "#plt.close()\n",
    "plt.show()"
   ]
  },
  {
   "cell_type": "code",
   "execution_count": null,
   "id": "7eba0bfc-a178-415c-8874-3df74510df4f",
   "metadata": {
    "tags": []
   },
   "outputs": [],
   "source": [
    "sz_distance_dict_mask[200.0].plot()\n"
   ]
  },
  {
   "cell_type": "code",
   "execution_count": null,
   "id": "74c79d94-88e8-46c6-846f-8de4ec17ddfa",
   "metadata": {
    "tags": []
   },
   "outputs": [],
   "source": [
    "# Run experiments where the distance of each deposit to the nearest target at the time of deposit formation\n",
    "# is determined from the distance raster sequence\n",
    "\n",
    "analysis_time_step = 10.\n",
    "raster_sampling = 2\n",
    "\n",
    "reconstruction_times = np.arange(0,1001,analysis_time_step)\n",
    "\n",
    "MODEL = M2021\n",
    "\n",
    "# Create a lookup table of the subduction zones reconstructed from topologies\n",
    "sz_lookup = topology_lookup(MODEL, \n",
    "                            reconstruction_times,\n",
    "                            boundary_types=['subduction'])\n",
    "\n",
    "\n",
    "sz_distance_dict_mask =  prepare_rasters(MODEL, sz_lookup,\n",
    "                                         reconstruction_times, sampling=raster_sampling)\n",
    "\n",
    "\n",
    "for deposit_type in ['PbZn-CD', 'PbZn-MVT', 'Cu-sed', 'Magmatic Ni', 'VMS', 'Cu-por', 'IOCG']:\n",
    "    \n",
    "    try:\n",
    "\n",
    "        Analysis_Result = reconstruct_target_features(Rocks.BaseMetalDeposits(deposit_type).query('Age<=1000'),\n",
    "                                                      MODEL, analysis_time_step, age_field='Age')\n",
    "\n",
    "        # Now get the distances from the raster sequence mapped to each point\n",
    "        results_sz = molchan.space_time_distances(sz_distance_dict_mask,\n",
    "                                                  Analysis_Result,\n",
    "                                                  age_field_name='AnalysisAge')\n",
    "\n",
    "\n",
    "        # To get the skill, we need to know not only the distances of the points to the features\n",
    "        # but also how these distances compare to the % of all points across all times within\n",
    "        # the same distance contour\n",
    "        sz_fractions = molchan.space_time_molchan_test(\n",
    "            sz_distance_dict_mask, \n",
    "            results_sz['distance'],\n",
    "            healpix_resolution=16)\n",
    "        print(sz_fractions[2])\n",
    "\n",
    "\n",
    "        plt.plot(sz_fractions[0],sz_fractions[1],\n",
    "                 label='{:s}  | Skill = {:0.3f}'.format(deposit_type, sz_fractions[2]))\n",
    "        \n",
    "    except:\n",
    "        print('Failed for {:s}'.format(deposit_type))\n",
    "    \n",
    "plt.grid()\n",
    "plt.legend()\n",
    "plt.xlim(0,1)\n",
    "plt.ylim(0,1)\n",
    "plt.xlabel('Grid Fraction')\n",
    "plt.ylabel('Fraction of points missed')\n",
    "\n",
    "#plt.savefig('./images/molchan_space_time_1000Ma.png')\n",
    "#plt.close()\n",
    "plt.show()"
   ]
  },
  {
   "cell_type": "code",
   "execution_count": null,
   "id": "bfef07cc-18ce-44c2-96f6-b3fad9dd5a05",
   "metadata": {},
   "outputs": [],
   "source": [
    "from scipy.interpolate import RegularGridInterpolator\n",
    "from scipy.interpolate import RectSphereBivariateSpline\n",
    "\n",
    "#lut = RectSphereBivariateSpline(lats, lons, data)\n",
    "\n",
    "\n",
    "f = RegularGridInterpolator((gridX,gridY), gridZ.T, method='nearest')\n",
    "\n",
    "f([current_point.to_lat_lon()[1], current_point.to_lat_lon()[0]])\n"
   ]
  },
  {
   "cell_type": "code",
   "execution_count": null,
   "id": "b7bbc445-af2f-4de5-8333-aead0762a6b4",
   "metadata": {},
   "outputs": [],
   "source": [
    "sz_distance_dict_mask[0].x.data"
   ]
  },
  {
   "cell_type": "code",
   "execution_count": null,
   "id": "a2752038-b970-4381-8173-b56065763c20",
   "metadata": {},
   "outputs": [],
   "source": [
    "#molchan.scipy_interpolater(sz_distance_dict_mask[0], [(45,45),(45,46)])\n",
    "tmp = molchan.scipy_interpolater(sz_distance_dict_mask[0], Analysis_Result[['Longitude', 'Latitude']])"
   ]
  },
  {
   "cell_type": "code",
   "execution_count": null,
   "id": "ee49b166-28d2-4df9-9c4e-56b7936fee8f",
   "metadata": {},
   "outputs": [],
   "source": [
    "tmp[np.isfinite(tmp)].tolist()"
   ]
  },
  {
   "cell_type": "code",
   "execution_count": null,
   "id": "9dc6908c-9055-4729-b762-cedba920f8a6",
   "metadata": {
    "tags": []
   },
   "outputs": [],
   "source": [
    "sys.path"
   ]
  },
  {
   "cell_type": "code",
   "execution_count": null,
   "id": "774635b0-bcab-4d74-832d-4e886fca54ac",
   "metadata": {},
   "outputs": [],
   "source": []
  }
 ],
 "metadata": {
  "kernelspec": {
   "display_name": "Python [conda env:pygmt13]",
   "language": "python",
   "name": "conda-env-pygmt13-py"
  },
  "language_info": {
   "codemirror_mode": {
    "name": "ipython",
    "version": 3
   },
   "file_extension": ".py",
   "mimetype": "text/x-python",
   "name": "python",
   "nbconvert_exporter": "python",
   "pygments_lexer": "ipython3",
   "version": "3.12.10"
  }
 },
 "nbformat": 4,
 "nbformat_minor": 5
}

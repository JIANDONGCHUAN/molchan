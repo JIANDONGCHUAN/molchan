{
 "cells": [
  {
   "cell_type": "code",
   "execution_count": null,
   "id": "c2b018d7-34b9-4c8a-be2c-dfa1217c4a6c",
   "metadata": {},
   "outputs": [],
   "source": [
    "import numpy as np\n",
    "import matplotlib.pyplot as plt\n",
    "import geopandas as gpd\n",
    "import pandas as pd\n",
    "import pygmt\n",
    "import pygplates\n",
    "\n",
    "from gprm.datasets import Reconstructions, Geology, Rocks\n",
    "from gprm.utils.spatial import topology_lookup\n",
    "#from gprm.utils.create_gpml import gdf2gpml, gpml2gdf\n",
    "\n",
    "#from collections import OrderedDict\n",
    "\n",
    "import sys\n",
    "sys.path.append('..')\n",
    "import molchan\n",
    "\n",
    "%load_ext autoreload\n",
    "%autoreload 2\n",
    "\n",
    "\n",
    "M2021 = Reconstructions.fetch_Merdith2021()\n",
    "\n",
    "for f in M2021.continent_polygons[0]:\n",
    "    if f.get_name() in ['Laurentia Parautochthon',\n",
    "                        'Kootenay Terrane (NAM affinity Colpron et al 2007)',\n",
    "                        'Cassiar Terrane (NAM affinity Colpron et al 2007)',\n",
    "                        'Yukon-Tanana Terrane',\n",
    "                        'Baikal-Muya']:\n",
    "        f.set_valid_time(1000,-999)\n",
    "        \n",
    "        "
   ]
  },
  {
   "cell_type": "code",
   "execution_count": null,
   "id": "2766b45e-d9e1-487f-9236-4f5ad71f3dc9",
   "metadata": {},
   "outputs": [],
   "source": [
    "# Create a lookup table of the subduction zones reconstructed from topologies\n",
    "\n",
    "subduction_lookup_time_step = 10.\n",
    "\n",
    "sz_lookup = topology_lookup(M2021, \n",
    "                            np.arange(0,1001,subduction_lookup_time_step),\n",
    "                            boundary_types=['subduction'])\n",
    "\n"
   ]
  },
  {
   "cell_type": "code",
   "execution_count": null,
   "id": "c6858761-888d-4327-92af-86b0c4c6af3a",
   "metadata": {},
   "outputs": [],
   "source": [
    "# Make two raster sequences, where:\n",
    "# 1. Mask rasters where the pixels lying within continents (from those lying outside, therefore unreconstructable)\n",
    "# 2. Distance rasters from subduction zone geometries\n",
    "\n",
    "sz_distance_dict = [-180.,180.,-90.,90.]\n",
    "sampling = 0.5\n",
    "\n",
    "analysis_time_step = subduction_lookup_time_step\n",
    "\n",
    "reconstruction_times = np.arange(0,1001,analysis_time_step)\n",
    "\n",
    "\n",
    "reconstruction_raster_dict = molchan.generate_raster_sequence_from_polygons(\n",
    "    M2021.continent_polygons[0],\n",
    "    M2021.rotation_model,\n",
    "    reconstruction_times,\n",
    "    sampling=sampling\n",
    ")\n",
    "\n",
    "sz_distance_dict = molchan.generate_distance_raster_sequence(\n",
    "    sz_lookup,\n",
    "    M2021,\n",
    "    reconstruction_times,\n",
    "    sampling=sampling\n",
    ")\n"
   ]
  },
  {
   "cell_type": "code",
   "execution_count": null,
   "id": "88b6e7e6-7121-4594-86a8-10da9307075f",
   "metadata": {},
   "outputs": [],
   "source": [
    "sz_distance_dict[200].plot()"
   ]
  },
  {
   "cell_type": "code",
   "execution_count": null,
   "id": "d39346f7-854b-4e70-81f1-ced4bb001f84",
   "metadata": {},
   "outputs": [],
   "source": [
    "reconstruction_raster_dict[200.].plot()"
   ]
  },
  {
   "cell_type": "code",
   "execution_count": null,
   "id": "0eb980a2-f670-4346-8f44-372d0f6a41a9",
   "metadata": {},
   "outputs": [],
   "source": [
    "# Load the ore deposits, and reconstruct them to the time at the nearest time in the raster sequences\n",
    "\n",
    "OreDeposits = Rocks.BaseMetalDeposits('PbZn-CD') \n",
    "\n",
    "OreDeposits_M2021 = M2021.assign_plate_ids(OreDeposits.query('Age<=1000'))\n",
    "\n",
    "OreDeposits_M2021['AnalysisAge'] = np.round(OreDeposits_M2021['Age']/analysis_time_step)*analysis_time_step\n",
    "\n",
    "Analysis_Result = M2021.reconstruct_to_time_of_appearance(OreDeposits_M2021, ReconstructTime='AnalysisAge')\n"
   ]
  },
  {
   "cell_type": "code",
   "execution_count": null,
   "id": "1da1af5a-4be4-4ee0-8eb4-3ee7897d9424",
   "metadata": {},
   "outputs": [],
   "source": [
    "# Run experiments where the distance of each deposit to the nearest target at the time of deposit formation\n",
    "# is determined from the distance raster sequence\n",
    "\n",
    "# First combine the distance rasters with the mask rasters\n",
    "sz_distance_dict_mask = molchan.combine_raster_sequences(sz_distance_dict, \n",
    "                                                           reconstruction_raster_dict)\n",
    "\n",
    "# Now get the distances from the raster sequence mapped to each point\n",
    "results_sz = molchan.space_time_distances(sz_distance_dict_mask,\n",
    "                                            Analysis_Result,\n",
    "                                            age_field_name='AnalysisAge')\n"
   ]
  },
  {
   "cell_type": "code",
   "execution_count": null,
   "id": "15192b94-e240-4d63-9752-b9948d2e4624",
   "metadata": {},
   "outputs": [],
   "source": [
    "# To get the skill, we need to know not only the distances of the points to the features\n",
    "# but also how these distances compare to the % of all points across all times within\n",
    "# the same distance contour\n",
    "sz_fractions = molchan.space_time_molchan_test(\n",
    "    sz_distance_dict_mask, \n",
    "    results_sz['distance'],\n",
    "    healpix_resolution=128)\n",
    "print(sz_fractions[2])\n",
    "\n",
    "\n",
    "\n",
    "plt.plot(sz_fractions[0],sz_fractions[1], 'r', \n",
    "         label='Cu-por to subduction zone  | Skill = {:0.3f}'.format(sz_fractions[2]))\n",
    "plt.grid()\n",
    "plt.legend()\n",
    "plt.xlim(0,1)\n",
    "plt.ylim(0,1)\n",
    "plt.xlabel('Grid Fraction')\n",
    "plt.ylabel('Fraction of points missed')\n",
    "\n",
    "#plt.savefig('./images/molchan_space_time_1000Ma.png')\n",
    "#plt.close()\n",
    "plt.show()\n"
   ]
  },
  {
   "cell_type": "code",
   "execution_count": null,
   "id": "44516fba-5b97-4247-a3a8-6f421865c778",
   "metadata": {},
   "outputs": [],
   "source": []
  }
 ],
 "metadata": {
  "kernelspec": {
   "display_name": "Python [conda env:pygmt9]",
   "language": "python",
   "name": "conda-env-pygmt9-py"
  },
  "language_info": {
   "codemirror_mode": {
    "name": "ipython",
    "version": 3
   },
   "file_extension": ".py",
   "mimetype": "text/x-python",
   "name": "python",
   "nbconvert_exporter": "python",
   "pygments_lexer": "ipython3",
   "version": "3.8.17"
  }
 },
 "nbformat": 4,
 "nbformat_minor": 5
}
